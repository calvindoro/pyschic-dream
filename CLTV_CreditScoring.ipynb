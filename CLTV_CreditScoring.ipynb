{
  "nbformat": 4,
  "nbformat_minor": 0,
  "metadata": {
    "colab": {
      "provenance": [],
      "authorship_tag": "ABX9TyPq0/R6iiiF766SpleGbZo2",
      "include_colab_link": true
    },
    "kernelspec": {
      "name": "python3",
      "display_name": "Python 3"
    },
    "language_info": {
      "name": "python"
    }
  },
  "cells": [
    {
      "cell_type": "markdown",
      "metadata": {
        "id": "view-in-github",
        "colab_type": "text"
      },
      "source": [
        "<a href=\"https://colab.research.google.com/github/calvindoro/pyschic-dream/blob/main/CLTV_CreditScoring.ipynb\" target=\"_parent\"><img src=\"https://colab.research.google.com/assets/colab-badge.svg\" alt=\"Open In Colab\"/></a>"
      ]
    },
    {
      "cell_type": "markdown",
      "source": [
        "# WHY\n",
        "\n",
        "CLTV model is useful for **market segmentation** and the allocation of marketing resources for __acquisition__, __retention__, and __cross selling__"
      ],
      "metadata": {
        "id": "EklymmRPqbQZ"
      }
    },
    {
      "cell_type": "markdown",
      "source": [
        "# HOW\n",
        "- total spending\n",
        "- subcription length\n",
        "- customer's age\n",
        "- respond to disc. and offers\n",
        "\n",
        "## customer value\n",
        "$$ customer\\_value = \\frac{average\\_order\\_value * frequency\\_of\\_purchase} {customer\\_churn} * profit\\_margin $$\n",
        "\n",
        "## average order value\n",
        "$$ average\\_order\\_value = \\frac{total\\_revenue}{total\\_orders} $$\n",
        "\n",
        "## frequency of purchase\n",
        "$$ frequency\\_of\\_purchase = \\frac{total\\_orders}{total\\_customers} $$\n",
        "\n",
        "* churn rate is the **%** of customers who have not ordered again\n",
        "* customer lifetime = $ \\frac{1}{churn\\_rate} $\n",
        "* repeat rate = 1 - churn_rate"
      ],
      "metadata": {
        "id": "3hjxjtXmrT5P"
      }
    },
    {
      "cell_type": "markdown",
      "source": [
        "# Objective(s)\n",
        "1. identify most profitable customers\n",
        "2. offer the best and make the most (high chance success to hit)\n",
        "3. market segementation\n",
        "4. budget estimation in order to acquire customers"
      ],
      "metadata": {
        "id": "FW6D7zyWrxvG"
      }
    },
    {
      "cell_type": "code",
      "execution_count": null,
      "metadata": {
        "id": "BUP6x127lkIe"
      },
      "outputs": [],
      "source": [
        "import pandas as pd\n",
        "\n",
        "data = pd.read_csv('...')\n",
        "data['revenue_each_order'] = data.Quantity * data.UnitPrice\n",
        "\n",
        "# a. number of days between present date and the last purchase\n",
        "# b. number of orders each customers\n",
        "# c. sum of revenue_each_order\n",
        "\n",
        "data_group = data.groupby('CustomerID').agg(\n",
        "    num_days=('InvoiceDate', lambda date: (date.max() - date.min()).days),\n",
        "    total_revenue=('revenue_each_order', sum),\n",
        "    total_orders=('InvoiceNo', pd.Series.nunique),\n",
        ")\n",
        "\n",
        "## CLTV Calculation\n",
        "\n",
        "### average_order_value\n",
        "data_group['avg_order_value'] = data_group.total_revenue / data_group.total_orders\n",
        "\n",
        "### frequency of purchase\n",
        "data_group['freq_purchase'] = data_group.total_orders / data_group.shape[0]\n",
        "\n",
        "### Repeat Rate / Churn Rate\n",
        "### Churn Rate: customer do not come back (last_transaction == first_transaction)\n",
        "### business need to explain what's the difference between stop (churn) and pause (dormant), by applying a certain threshold\n",
        "churn_rate = data_group.select('num_days == 0').shape[0] / data_group.shape[0]# how many % left\n",
        "\n",
        "### Profit Margin suppose that business making 25%\n",
        "data_group['profit_margin'] = data_group.total_revenue * 0.25\n",
        "### CLTV\n",
        "data_group['CLTV'] = (data_group.avg_order_value * data_group.freq_purchase) / churn_rate * data_group.profit_margin\n",
        "\n",
        "# Extract month and year from InvoiceDate\n",
        "data['month_year'] = data['InvoiceDate'].apply(lambda x: x.strftime('%b-%Y'))\n",
        "\n",
        "data.pivot_table(index=['CustomerID'], columns=['month_year'], values=['revenue_each_order'], aggfunc=sum, fill_value=0)"
      ]
    },
    {
      "cell_type": "markdown",
      "source": [
        "# Reference\n",
        "- https://towardsdatascience.com/understanding-and-forecasting-customer-lifetime-value-cltv-634fe34f522b\n",
        "- https://medium.com/swlh/predict-customer-lifetime-value-with-machine-learning-545624073d14\n",
        "- https://towardsdatascience.com/measuring-users-with-customer-lifetime-value-cltv-94fccb4e532e"
      ],
      "metadata": {
        "id": "H_SGlL2hlnJY"
      }
    },
    {
      "cell_type": "markdown",
      "source": [
        "$$ \\frac{\\sum_{i, t}| y_{i, t} - \\hat{y_{i, t}} |} {\\sum_{i, t}} $$"
      ],
      "metadata": {
        "id": "ln7JuWCOfPZr"
      }
    }
  ]
}