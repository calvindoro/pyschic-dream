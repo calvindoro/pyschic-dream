{
  "nbformat": 4,
  "nbformat_minor": 0,
  "metadata": {
    "colab": {
      "provenance": [],
      "authorship_tag": "ABX9TyMH5Th/OAvN12JgeHuxGco0",
      "include_colab_link": true
    },
    "kernelspec": {
      "name": "python3",
      "display_name": "Python 3"
    },
    "language_info": {
      "name": "python"
    }
  },
  "cells": [
    {
      "cell_type": "markdown",
      "metadata": {
        "id": "view-in-github",
        "colab_type": "text"
      },
      "source": [
        "<a href=\"https://colab.research.google.com/github/calvindoro/pyschic-dream/blob/main/Statistical_Tests.ipynb\" target=\"_parent\"><img src=\"https://colab.research.google.com/assets/colab-badge.svg\" alt=\"Open In Colab\"/></a>"
      ]
    },
    {
      "cell_type": "markdown",
      "source": [
        "## Intro\n",
        "\n",
        "one sample test: statistical procedure considering the analysis of one column / feature.<br>\n",
        "It can be a __percentage distribution analysis__ (categorical variable) or **mean_analysis** (continous variable)\n",
        "\n",
        "on the other hand, 2 sample test: a statistical procedure to **compare** / calculate the __relationshop__ between 2 random variables."
      ],
      "metadata": {
        "id": "OEh-C1mKxoK2"
      }
    },
    {
      "cell_type": "markdown",
      "source": [
        "## One sample test\n",
        "\n",
        "hypothesis testing of one random variable"
      ],
      "metadata": {
        "id": "Gf2L_6LDydhO"
      }
    },
    {
      "cell_type": "markdown",
      "source": [
        "### one sample t-test for mean\n",
        "for numerical / continuous variable\n",
        "\n",
        "**aim**: to test that whether population's mean is different than a constant value\n",
        "\n",
        "$$ t_stat = \\frac{\\bar{X} - \\mu }{\\frac{s}{\\sqrt{n}}}$$"
      ],
      "metadata": {
        "id": "TZ0srlEKymWY"
      }
    },
    {
      "cell_type": "markdown",
      "source": [
        "### one sample t-test for proportion\n",
        "\n",
        "**aim**: used to estimate the proportion of the population<br>\n",
        "for categorical variable, use one t-test for proportion to test the distribution of categories\n",
        "\n",
        "$$ Z_calc = \\frac{\\hat{p} - p_0 }{\\sqrt{\\frac{p_0*(1-p_0)}{n}}}$$\n",
        "\n",
        "- $ \\hat{p} $: Observed probability of one certain outcome occuring\n",
        "- $ p_0 $: hypothesized probability\n",
        "- n: number of trials"
      ],
      "metadata": {
        "id": "I2CUtltfzw9V"
      }
    },
    {
      "cell_type": "markdown",
      "source": [
        "## 2 Sample  test\n",
        "\n",
        "2 random variables, each obtained from an independent population\n",
        "\n",
        "- 2 continous variable\n",
        "- 1 continuous & another categorical variable\n",
        "- 2 categorical variable"
      ],
      "metadata": {
        "id": "HaOseatl06LD"
      }
    },
    {
      "cell_type": "markdown",
      "source": [
        "### test between 2 continous variable\n",
        "\n",
        "aim: __correlation__\n",
        "\n",
        "- pearson correlation: measure the degree of relationships between __2 linearly related__ variables.<br>the value of it's coefficient ranges between [1, -1]\n",
        "  - +1: positively correlated\n",
        "  - -1: negatively correlated\n",
        "  - 0: no correlation \n",
        "- spearman rank correlation: measure the **monotic** relationship between 2 continous random variables"
      ],
      "metadata": {
        "id": "imfsHfmy1N1o"
      }
    },
    {
      "cell_type": "markdown",
      "source": [
        "### 1 continuous & 1 categorical\n",
        "- T-test: to find out whether it's significant difference among categories (at most 2 groups) in terms of their continuous variables\n",
        "- ANOVA: find the difference between 1 categorical (at least 3 groups or more) and another continous variable"
      ],
      "metadata": {
        "id": "GrsPWcon2dPL"
      }
    },
    {
      "cell_type": "markdown",
      "source": [
        "### 2 categorical variables\n",
        "\n",
        "- chi square test ( $ χ^2 $ )\n",
        "\n",
        "draw comparison between 2 random categorical variables.\n",
        "<br>ex: there's a difference between gender and their color preferences"
      ],
      "metadata": {
        "id": "8l3s6WXJ3XZB"
      }
    },
    {
      "cell_type": "markdown",
      "source": [
        "# AB Test\n",
        "## 1. Designing experiment\n",
        "__[knowledge alert]__ want to know whether the new design perform better or worse → **two tailed test**\n",
        "$$\n",
        "H_0: p = p_0\n",
        "$$\n",
        "<br>\n",
        "$$\n",
        "H_a: p \\neq p_0\n",
        "$$\n",
        "where p and $p_0$ stands for the conversion rate of new and old design respectively.<br>Noted confidence level (α = 0.05)\n",
        "by which we say\n",
        "<blockquote>if the probability of observing a result as extreme or more (p-value) is lower than <b>α</b>, then we reject the Null Hypothesis by 95% confidence level</blockquote>\n",
        "\n",
        "### choosing the variables\n",
        "- `control` group - old design\n",
        "- `treatment` / experimental group - new design\n",
        "\n",
        "independent variable: design to page<br>\n",
        "dependent variable: conversion rate\n",
        "\n",
        "### choosing a sample size\n",
        "it's important to note that sampling over than testing the whole population (expensive and impractical), the dependent variable being measure inevitably is estimates of the true value.\n",
        "<blockquote>\n",
        "the <b>larger the sample size</b>, the more precise our estimates as well as smaller confidence intervals,<br>means higher chance to detect <b>difference</b> in 2 groups, if any.\n",
        "</blockquote>\n",
        "\n",
        "> how many sample should we take in each group ? \n",
        ">> Power Analysis\n",
        "- power of the test (1 - β): probability of finding a statistical difference among the groups in testset when difference is really exist.\n",
        "- alpha value (α) - critical value set earlier to 0.05\n",
        "- effect size: how big of difference expected to be happened"
      ],
      "metadata": {
        "id": "mqt3vBtlC4TY"
      }
    },
    {
      "cell_type": "code",
      "source": [
        "# example of Power Analysis\n",
        "import math\n",
        "import scipy.stats as stats\n",
        "import statsmodels.stats.api as sms\n",
        "\n",
        "## suppose 2% improvement from 13%\n",
        "effect_size = sms.proportion_effectsize(0.13, 0.15)\n",
        "\n",
        "required_n = sms.NormalIndPower().solve_power(\n",
        "    effect_size,\n",
        "    power=0.90,# by convention however we may start with lower number, e.g. 80%\n",
        "    alpha=0.05,\n",
        "    ratio=1\n",
        ")\n",
        "required_n = math.ceil(required_n)\n",
        "print(f'effect size based on initial expectation: {effect_size}\\nMin Sample Size needed: {required_n}')"
      ],
      "metadata": {
        "colab": {
          "base_uri": "https://localhost:8080/"
        },
        "id": "8D2BiYZuKbYW",
        "outputId": "de26d6e0-3cb6-4460-e26a-d8093bfc66ea"
      },
      "execution_count": 48,
      "outputs": [
        {
          "output_type": "stream",
          "name": "stdout",
          "text": [
            "effect size based on initial expectation: -0.0576728617308947\n",
            "Min Sample Size needed: 6319\n"
          ]
        }
      ]
    },
    {
      "cell_type": "markdown",
      "source": [
        "> having set `power` parameter to 0.90 means if actual difference (around **2%** mentioned on `effect_size`) among the change of designs is really exists, we have about 90% chance to detect it as statistically significant in our test with the sample size (__6319__) we calculated"
      ],
      "metadata": {
        "id": "0V8ljsAcMiky"
      }
    },
    {
      "cell_type": "markdown",
      "source": [
        "## 2. Collecting & Preparing data\n",
        "- sampling"
      ],
      "metadata": {
        "id": "_ph9K-W-OOxf"
      }
    },
    {
      "cell_type": "code",
      "source": [
        "from google.colab import drive\n",
        "drive.mount('/content/drive')\n",
        "\n",
        "!unzip '/content/drive/My Drive/Colab Notebooks/Datasets/ab_test/ab_data.zip' -d '/content/drive/My Drive/Colab Notebooks/Datasets/ab_test/' > /dev/null\n",
        "!ls"
      ],
      "metadata": {
        "colab": {
          "base_uri": "https://localhost:8080/"
        },
        "id": "8YtDLyLXbEh5",
        "outputId": "f8444084-e852-440c-9f0a-f01f58af5cb0"
      },
      "execution_count": 17,
      "outputs": [
        {
          "output_type": "stream",
          "name": "stdout",
          "text": [
            "Mounted at /content/drive\n"
          ]
        }
      ]
    },
    {
      "cell_type": "code",
      "source": [
        "# to make sure all the control group are seeing the old page and viceversa\n",
        "import os\n",
        "import pandas as pd\n",
        "\n",
        "path = '/content/drive/My Drive/Colab Notebooks/Datasets/ab_test'\n",
        "df = pd.read_csv(os.path.join(path, 'ab_data.csv'))\n",
        "\n",
        "# to remove multi-users, may use drop_duplicates instead\n",
        "session_counts = df['user_id'].value_counts(ascending=False)\n",
        "multi_users = session_counts[session_counts > 1].count()\n",
        "print(f'there are {multi_users} users that taken multiple times in the dataset')\n",
        "users_to_drop = session_counts[session_counts > 1].index\n",
        "\n",
        "df = df.drop_duplicates(subset=['user_id'], keep='first')\n",
        "# df = df[~df.user_id.isin(users_to_drop)]\n",
        "print(f'The updated dataset now has {df.shape[0]} entries')\n",
        "\n",
        "control_sample = df.query('group == \"control\" and landing_page == \"old_page\"').sample(n=required_n, random_state=8)\n",
        "treatment_sample = df.query('group == \"treatment\" and landing_page == \"new_page\"').sample(n=required_n, random_state=8)\n",
        "\n",
        "ab_test = pd.concat([control_sample, treatment_sample], axis=0).reset_index(drop=True)\n",
        "display(pd.crosstab(df['group'], df['landing_page']), ab_test.head(), ab_test.tail(), ab_test.info(memory_usage='deep'))"
      ],
      "metadata": {
        "colab": {
          "base_uri": "https://localhost:8080/",
          "height": 782
        },
        "id": "f_Nz_P-VMiFN",
        "outputId": "ae533898-8fcb-41f7-ab4b-3cad5522c0e8"
      },
      "execution_count": 57,
      "outputs": [
        {
          "output_type": "stream",
          "name": "stdout",
          "text": [
            "there are 3894 users that taken multiple times in the dataset\n",
            "The updated dataset now has 290584 entries\n",
            "<class 'pandas.core.frame.DataFrame'>\n",
            "RangeIndex: 12638 entries, 0 to 12637\n",
            "Data columns (total 5 columns):\n",
            " #   Column        Non-Null Count  Dtype \n",
            "---  ------        --------------  ----- \n",
            " 0   user_id       12638 non-null  int64 \n",
            " 1   timestamp     12638 non-null  object\n",
            " 2   group         12638 non-null  object\n",
            " 3   landing_page  12638 non-null  object\n",
            " 4   converted     12638 non-null  int64 \n",
            "dtypes: int64(2), object(3)\n",
            "memory usage: 2.8 MB\n"
          ]
        },
        {
          "output_type": "display_data",
          "data": {
            "text/plain": [
              "landing_page  new_page  old_page\n",
              "group                           \n",
              "control           1006    144226\n",
              "treatment       144314      1038"
            ],
            "text/html": [
              "\n",
              "  <div id=\"df-50adc38b-5ae5-4da8-b536-de1d4d689009\">\n",
              "    <div class=\"colab-df-container\">\n",
              "      <div>\n",
              "<style scoped>\n",
              "    .dataframe tbody tr th:only-of-type {\n",
              "        vertical-align: middle;\n",
              "    }\n",
              "\n",
              "    .dataframe tbody tr th {\n",
              "        vertical-align: top;\n",
              "    }\n",
              "\n",
              "    .dataframe thead th {\n",
              "        text-align: right;\n",
              "    }\n",
              "</style>\n",
              "<table border=\"1\" class=\"dataframe\">\n",
              "  <thead>\n",
              "    <tr style=\"text-align: right;\">\n",
              "      <th>landing_page</th>\n",
              "      <th>new_page</th>\n",
              "      <th>old_page</th>\n",
              "    </tr>\n",
              "    <tr>\n",
              "      <th>group</th>\n",
              "      <th></th>\n",
              "      <th></th>\n",
              "    </tr>\n",
              "  </thead>\n",
              "  <tbody>\n",
              "    <tr>\n",
              "      <th>control</th>\n",
              "      <td>1006</td>\n",
              "      <td>144226</td>\n",
              "    </tr>\n",
              "    <tr>\n",
              "      <th>treatment</th>\n",
              "      <td>144314</td>\n",
              "      <td>1038</td>\n",
              "    </tr>\n",
              "  </tbody>\n",
              "</table>\n",
              "</div>\n",
              "      <button class=\"colab-df-convert\" onclick=\"convertToInteractive('df-50adc38b-5ae5-4da8-b536-de1d4d689009')\"\n",
              "              title=\"Convert this dataframe to an interactive table.\"\n",
              "              style=\"display:none;\">\n",
              "        \n",
              "  <svg xmlns=\"http://www.w3.org/2000/svg\" height=\"24px\"viewBox=\"0 0 24 24\"\n",
              "       width=\"24px\">\n",
              "    <path d=\"M0 0h24v24H0V0z\" fill=\"none\"/>\n",
              "    <path d=\"M18.56 5.44l.94 2.06.94-2.06 2.06-.94-2.06-.94-.94-2.06-.94 2.06-2.06.94zm-11 1L8.5 8.5l.94-2.06 2.06-.94-2.06-.94L8.5 2.5l-.94 2.06-2.06.94zm10 10l.94 2.06.94-2.06 2.06-.94-2.06-.94-.94-2.06-.94 2.06-2.06.94z\"/><path d=\"M17.41 7.96l-1.37-1.37c-.4-.4-.92-.59-1.43-.59-.52 0-1.04.2-1.43.59L10.3 9.45l-7.72 7.72c-.78.78-.78 2.05 0 2.83L4 21.41c.39.39.9.59 1.41.59.51 0 1.02-.2 1.41-.59l7.78-7.78 2.81-2.81c.8-.78.8-2.07 0-2.86zM5.41 20L4 18.59l7.72-7.72 1.47 1.35L5.41 20z\"/>\n",
              "  </svg>\n",
              "      </button>\n",
              "      \n",
              "  <style>\n",
              "    .colab-df-container {\n",
              "      display:flex;\n",
              "      flex-wrap:wrap;\n",
              "      gap: 12px;\n",
              "    }\n",
              "\n",
              "    .colab-df-convert {\n",
              "      background-color: #E8F0FE;\n",
              "      border: none;\n",
              "      border-radius: 50%;\n",
              "      cursor: pointer;\n",
              "      display: none;\n",
              "      fill: #1967D2;\n",
              "      height: 32px;\n",
              "      padding: 0 0 0 0;\n",
              "      width: 32px;\n",
              "    }\n",
              "\n",
              "    .colab-df-convert:hover {\n",
              "      background-color: #E2EBFA;\n",
              "      box-shadow: 0px 1px 2px rgba(60, 64, 67, 0.3), 0px 1px 3px 1px rgba(60, 64, 67, 0.15);\n",
              "      fill: #174EA6;\n",
              "    }\n",
              "\n",
              "    [theme=dark] .colab-df-convert {\n",
              "      background-color: #3B4455;\n",
              "      fill: #D2E3FC;\n",
              "    }\n",
              "\n",
              "    [theme=dark] .colab-df-convert:hover {\n",
              "      background-color: #434B5C;\n",
              "      box-shadow: 0px 1px 3px 1px rgba(0, 0, 0, 0.15);\n",
              "      filter: drop-shadow(0px 1px 2px rgba(0, 0, 0, 0.3));\n",
              "      fill: #FFFFFF;\n",
              "    }\n",
              "  </style>\n",
              "\n",
              "      <script>\n",
              "        const buttonEl =\n",
              "          document.querySelector('#df-50adc38b-5ae5-4da8-b536-de1d4d689009 button.colab-df-convert');\n",
              "        buttonEl.style.display =\n",
              "          google.colab.kernel.accessAllowed ? 'block' : 'none';\n",
              "\n",
              "        async function convertToInteractive(key) {\n",
              "          const element = document.querySelector('#df-50adc38b-5ae5-4da8-b536-de1d4d689009');\n",
              "          const dataTable =\n",
              "            await google.colab.kernel.invokeFunction('convertToInteractive',\n",
              "                                                     [key], {});\n",
              "          if (!dataTable) return;\n",
              "\n",
              "          const docLinkHtml = 'Like what you see? Visit the ' +\n",
              "            '<a target=\"_blank\" href=https://colab.research.google.com/notebooks/data_table.ipynb>data table notebook</a>'\n",
              "            + ' to learn more about interactive tables.';\n",
              "          element.innerHTML = '';\n",
              "          dataTable['output_type'] = 'display_data';\n",
              "          await google.colab.output.renderOutput(dataTable, element);\n",
              "          const docLink = document.createElement('div');\n",
              "          docLink.innerHTML = docLinkHtml;\n",
              "          element.appendChild(docLink);\n",
              "        }\n",
              "      </script>\n",
              "    </div>\n",
              "  </div>\n",
              "  "
            ]
          },
          "metadata": {}
        },
        {
          "output_type": "display_data",
          "data": {
            "text/plain": [
              "   user_id                   timestamp    group landing_page  converted\n",
              "0   702859  2017-01-11 10:28:49.118326  control     old_page          0\n",
              "1   927074  2017-01-19 01:05:49.446321  control     old_page          0\n",
              "2   838452  2017-01-12 15:58:03.742645  control     old_page          0\n",
              "3   657098  2017-01-19 02:48:15.668734  control     old_page          0\n",
              "4   874919  2017-01-16 01:20:37.247199  control     old_page          0"
            ],
            "text/html": [
              "\n",
              "  <div id=\"df-db75ffb4-e539-440c-8861-3a29d2722b71\">\n",
              "    <div class=\"colab-df-container\">\n",
              "      <div>\n",
              "<style scoped>\n",
              "    .dataframe tbody tr th:only-of-type {\n",
              "        vertical-align: middle;\n",
              "    }\n",
              "\n",
              "    .dataframe tbody tr th {\n",
              "        vertical-align: top;\n",
              "    }\n",
              "\n",
              "    .dataframe thead th {\n",
              "        text-align: right;\n",
              "    }\n",
              "</style>\n",
              "<table border=\"1\" class=\"dataframe\">\n",
              "  <thead>\n",
              "    <tr style=\"text-align: right;\">\n",
              "      <th></th>\n",
              "      <th>user_id</th>\n",
              "      <th>timestamp</th>\n",
              "      <th>group</th>\n",
              "      <th>landing_page</th>\n",
              "      <th>converted</th>\n",
              "    </tr>\n",
              "  </thead>\n",
              "  <tbody>\n",
              "    <tr>\n",
              "      <th>0</th>\n",
              "      <td>702859</td>\n",
              "      <td>2017-01-11 10:28:49.118326</td>\n",
              "      <td>control</td>\n",
              "      <td>old_page</td>\n",
              "      <td>0</td>\n",
              "    </tr>\n",
              "    <tr>\n",
              "      <th>1</th>\n",
              "      <td>927074</td>\n",
              "      <td>2017-01-19 01:05:49.446321</td>\n",
              "      <td>control</td>\n",
              "      <td>old_page</td>\n",
              "      <td>0</td>\n",
              "    </tr>\n",
              "    <tr>\n",
              "      <th>2</th>\n",
              "      <td>838452</td>\n",
              "      <td>2017-01-12 15:58:03.742645</td>\n",
              "      <td>control</td>\n",
              "      <td>old_page</td>\n",
              "      <td>0</td>\n",
              "    </tr>\n",
              "    <tr>\n",
              "      <th>3</th>\n",
              "      <td>657098</td>\n",
              "      <td>2017-01-19 02:48:15.668734</td>\n",
              "      <td>control</td>\n",
              "      <td>old_page</td>\n",
              "      <td>0</td>\n",
              "    </tr>\n",
              "    <tr>\n",
              "      <th>4</th>\n",
              "      <td>874919</td>\n",
              "      <td>2017-01-16 01:20:37.247199</td>\n",
              "      <td>control</td>\n",
              "      <td>old_page</td>\n",
              "      <td>0</td>\n",
              "    </tr>\n",
              "  </tbody>\n",
              "</table>\n",
              "</div>\n",
              "      <button class=\"colab-df-convert\" onclick=\"convertToInteractive('df-db75ffb4-e539-440c-8861-3a29d2722b71')\"\n",
              "              title=\"Convert this dataframe to an interactive table.\"\n",
              "              style=\"display:none;\">\n",
              "        \n",
              "  <svg xmlns=\"http://www.w3.org/2000/svg\" height=\"24px\"viewBox=\"0 0 24 24\"\n",
              "       width=\"24px\">\n",
              "    <path d=\"M0 0h24v24H0V0z\" fill=\"none\"/>\n",
              "    <path d=\"M18.56 5.44l.94 2.06.94-2.06 2.06-.94-2.06-.94-.94-2.06-.94 2.06-2.06.94zm-11 1L8.5 8.5l.94-2.06 2.06-.94-2.06-.94L8.5 2.5l-.94 2.06-2.06.94zm10 10l.94 2.06.94-2.06 2.06-.94-2.06-.94-.94-2.06-.94 2.06-2.06.94z\"/><path d=\"M17.41 7.96l-1.37-1.37c-.4-.4-.92-.59-1.43-.59-.52 0-1.04.2-1.43.59L10.3 9.45l-7.72 7.72c-.78.78-.78 2.05 0 2.83L4 21.41c.39.39.9.59 1.41.59.51 0 1.02-.2 1.41-.59l7.78-7.78 2.81-2.81c.8-.78.8-2.07 0-2.86zM5.41 20L4 18.59l7.72-7.72 1.47 1.35L5.41 20z\"/>\n",
              "  </svg>\n",
              "      </button>\n",
              "      \n",
              "  <style>\n",
              "    .colab-df-container {\n",
              "      display:flex;\n",
              "      flex-wrap:wrap;\n",
              "      gap: 12px;\n",
              "    }\n",
              "\n",
              "    .colab-df-convert {\n",
              "      background-color: #E8F0FE;\n",
              "      border: none;\n",
              "      border-radius: 50%;\n",
              "      cursor: pointer;\n",
              "      display: none;\n",
              "      fill: #1967D2;\n",
              "      height: 32px;\n",
              "      padding: 0 0 0 0;\n",
              "      width: 32px;\n",
              "    }\n",
              "\n",
              "    .colab-df-convert:hover {\n",
              "      background-color: #E2EBFA;\n",
              "      box-shadow: 0px 1px 2px rgba(60, 64, 67, 0.3), 0px 1px 3px 1px rgba(60, 64, 67, 0.15);\n",
              "      fill: #174EA6;\n",
              "    }\n",
              "\n",
              "    [theme=dark] .colab-df-convert {\n",
              "      background-color: #3B4455;\n",
              "      fill: #D2E3FC;\n",
              "    }\n",
              "\n",
              "    [theme=dark] .colab-df-convert:hover {\n",
              "      background-color: #434B5C;\n",
              "      box-shadow: 0px 1px 3px 1px rgba(0, 0, 0, 0.15);\n",
              "      filter: drop-shadow(0px 1px 2px rgba(0, 0, 0, 0.3));\n",
              "      fill: #FFFFFF;\n",
              "    }\n",
              "  </style>\n",
              "\n",
              "      <script>\n",
              "        const buttonEl =\n",
              "          document.querySelector('#df-db75ffb4-e539-440c-8861-3a29d2722b71 button.colab-df-convert');\n",
              "        buttonEl.style.display =\n",
              "          google.colab.kernel.accessAllowed ? 'block' : 'none';\n",
              "\n",
              "        async function convertToInteractive(key) {\n",
              "          const element = document.querySelector('#df-db75ffb4-e539-440c-8861-3a29d2722b71');\n",
              "          const dataTable =\n",
              "            await google.colab.kernel.invokeFunction('convertToInteractive',\n",
              "                                                     [key], {});\n",
              "          if (!dataTable) return;\n",
              "\n",
              "          const docLinkHtml = 'Like what you see? Visit the ' +\n",
              "            '<a target=\"_blank\" href=https://colab.research.google.com/notebooks/data_table.ipynb>data table notebook</a>'\n",
              "            + ' to learn more about interactive tables.';\n",
              "          element.innerHTML = '';\n",
              "          dataTable['output_type'] = 'display_data';\n",
              "          await google.colab.output.renderOutput(dataTable, element);\n",
              "          const docLink = document.createElement('div');\n",
              "          docLink.innerHTML = docLinkHtml;\n",
              "          element.appendChild(docLink);\n",
              "        }\n",
              "      </script>\n",
              "    </div>\n",
              "  </div>\n",
              "  "
            ]
          },
          "metadata": {}
        },
        {
          "output_type": "display_data",
          "data": {
            "text/plain": [
              "       user_id                   timestamp      group landing_page  converted\n",
              "12633   884578  2017-01-15 09:33:28.058171  treatment     new_page          0\n",
              "12634   784276  2017-01-04 18:13:06.581739  treatment     new_page          1\n",
              "12635   848573  2017-01-24 08:58:19.211431  treatment     new_page          0\n",
              "12636   826514  2017-01-11 06:58:57.661438  treatment     new_page          0\n",
              "12637   680116  2017-01-12 21:13:33.369246  treatment     new_page          0"
            ],
            "text/html": [
              "\n",
              "  <div id=\"df-ad7beebf-338e-43e3-a36e-de3c1b0472ab\">\n",
              "    <div class=\"colab-df-container\">\n",
              "      <div>\n",
              "<style scoped>\n",
              "    .dataframe tbody tr th:only-of-type {\n",
              "        vertical-align: middle;\n",
              "    }\n",
              "\n",
              "    .dataframe tbody tr th {\n",
              "        vertical-align: top;\n",
              "    }\n",
              "\n",
              "    .dataframe thead th {\n",
              "        text-align: right;\n",
              "    }\n",
              "</style>\n",
              "<table border=\"1\" class=\"dataframe\">\n",
              "  <thead>\n",
              "    <tr style=\"text-align: right;\">\n",
              "      <th></th>\n",
              "      <th>user_id</th>\n",
              "      <th>timestamp</th>\n",
              "      <th>group</th>\n",
              "      <th>landing_page</th>\n",
              "      <th>converted</th>\n",
              "    </tr>\n",
              "  </thead>\n",
              "  <tbody>\n",
              "    <tr>\n",
              "      <th>12633</th>\n",
              "      <td>884578</td>\n",
              "      <td>2017-01-15 09:33:28.058171</td>\n",
              "      <td>treatment</td>\n",
              "      <td>new_page</td>\n",
              "      <td>0</td>\n",
              "    </tr>\n",
              "    <tr>\n",
              "      <th>12634</th>\n",
              "      <td>784276</td>\n",
              "      <td>2017-01-04 18:13:06.581739</td>\n",
              "      <td>treatment</td>\n",
              "      <td>new_page</td>\n",
              "      <td>1</td>\n",
              "    </tr>\n",
              "    <tr>\n",
              "      <th>12635</th>\n",
              "      <td>848573</td>\n",
              "      <td>2017-01-24 08:58:19.211431</td>\n",
              "      <td>treatment</td>\n",
              "      <td>new_page</td>\n",
              "      <td>0</td>\n",
              "    </tr>\n",
              "    <tr>\n",
              "      <th>12636</th>\n",
              "      <td>826514</td>\n",
              "      <td>2017-01-11 06:58:57.661438</td>\n",
              "      <td>treatment</td>\n",
              "      <td>new_page</td>\n",
              "      <td>0</td>\n",
              "    </tr>\n",
              "    <tr>\n",
              "      <th>12637</th>\n",
              "      <td>680116</td>\n",
              "      <td>2017-01-12 21:13:33.369246</td>\n",
              "      <td>treatment</td>\n",
              "      <td>new_page</td>\n",
              "      <td>0</td>\n",
              "    </tr>\n",
              "  </tbody>\n",
              "</table>\n",
              "</div>\n",
              "      <button class=\"colab-df-convert\" onclick=\"convertToInteractive('df-ad7beebf-338e-43e3-a36e-de3c1b0472ab')\"\n",
              "              title=\"Convert this dataframe to an interactive table.\"\n",
              "              style=\"display:none;\">\n",
              "        \n",
              "  <svg xmlns=\"http://www.w3.org/2000/svg\" height=\"24px\"viewBox=\"0 0 24 24\"\n",
              "       width=\"24px\">\n",
              "    <path d=\"M0 0h24v24H0V0z\" fill=\"none\"/>\n",
              "    <path d=\"M18.56 5.44l.94 2.06.94-2.06 2.06-.94-2.06-.94-.94-2.06-.94 2.06-2.06.94zm-11 1L8.5 8.5l.94-2.06 2.06-.94-2.06-.94L8.5 2.5l-.94 2.06-2.06.94zm10 10l.94 2.06.94-2.06 2.06-.94-2.06-.94-.94-2.06-.94 2.06-2.06.94z\"/><path d=\"M17.41 7.96l-1.37-1.37c-.4-.4-.92-.59-1.43-.59-.52 0-1.04.2-1.43.59L10.3 9.45l-7.72 7.72c-.78.78-.78 2.05 0 2.83L4 21.41c.39.39.9.59 1.41.59.51 0 1.02-.2 1.41-.59l7.78-7.78 2.81-2.81c.8-.78.8-2.07 0-2.86zM5.41 20L4 18.59l7.72-7.72 1.47 1.35L5.41 20z\"/>\n",
              "  </svg>\n",
              "      </button>\n",
              "      \n",
              "  <style>\n",
              "    .colab-df-container {\n",
              "      display:flex;\n",
              "      flex-wrap:wrap;\n",
              "      gap: 12px;\n",
              "    }\n",
              "\n",
              "    .colab-df-convert {\n",
              "      background-color: #E8F0FE;\n",
              "      border: none;\n",
              "      border-radius: 50%;\n",
              "      cursor: pointer;\n",
              "      display: none;\n",
              "      fill: #1967D2;\n",
              "      height: 32px;\n",
              "      padding: 0 0 0 0;\n",
              "      width: 32px;\n",
              "    }\n",
              "\n",
              "    .colab-df-convert:hover {\n",
              "      background-color: #E2EBFA;\n",
              "      box-shadow: 0px 1px 2px rgba(60, 64, 67, 0.3), 0px 1px 3px 1px rgba(60, 64, 67, 0.15);\n",
              "      fill: #174EA6;\n",
              "    }\n",
              "\n",
              "    [theme=dark] .colab-df-convert {\n",
              "      background-color: #3B4455;\n",
              "      fill: #D2E3FC;\n",
              "    }\n",
              "\n",
              "    [theme=dark] .colab-df-convert:hover {\n",
              "      background-color: #434B5C;\n",
              "      box-shadow: 0px 1px 3px 1px rgba(0, 0, 0, 0.15);\n",
              "      filter: drop-shadow(0px 1px 2px rgba(0, 0, 0, 0.3));\n",
              "      fill: #FFFFFF;\n",
              "    }\n",
              "  </style>\n",
              "\n",
              "      <script>\n",
              "        const buttonEl =\n",
              "          document.querySelector('#df-ad7beebf-338e-43e3-a36e-de3c1b0472ab button.colab-df-convert');\n",
              "        buttonEl.style.display =\n",
              "          google.colab.kernel.accessAllowed ? 'block' : 'none';\n",
              "\n",
              "        async function convertToInteractive(key) {\n",
              "          const element = document.querySelector('#df-ad7beebf-338e-43e3-a36e-de3c1b0472ab');\n",
              "          const dataTable =\n",
              "            await google.colab.kernel.invokeFunction('convertToInteractive',\n",
              "                                                     [key], {});\n",
              "          if (!dataTable) return;\n",
              "\n",
              "          const docLinkHtml = 'Like what you see? Visit the ' +\n",
              "            '<a target=\"_blank\" href=https://colab.research.google.com/notebooks/data_table.ipynb>data table notebook</a>'\n",
              "            + ' to learn more about interactive tables.';\n",
              "          element.innerHTML = '';\n",
              "          dataTable['output_type'] = 'display_data';\n",
              "          await google.colab.output.renderOutput(dataTable, element);\n",
              "          const docLink = document.createElement('div');\n",
              "          docLink.innerHTML = docLinkHtml;\n",
              "          element.appendChild(docLink);\n",
              "        }\n",
              "      </script>\n",
              "    </div>\n",
              "  </div>\n",
              "  "
            ]
          },
          "metadata": {}
        },
        {
          "output_type": "display_data",
          "data": {
            "text/plain": [
              "None"
            ]
          },
          "metadata": {}
        }
      ]
    },
    {
      "cell_type": "markdown",
      "source": [
        "## 3. Visualizing the results"
      ],
      "metadata": {
        "id": "NkNGKbf6P_-K"
      }
    },
    {
      "cell_type": "code",
      "source": [
        "import numpy as np\n",
        "\n",
        "conversion_rates = ab_test.groupby('group')['converted']\n",
        "\n",
        "std_p = lambda x: np.std(x, ddof=0)\n",
        "se_p = lambda x: stats.sem(x, ddof=0)# standard error of the mean\n",
        "\n",
        "conversion_rates = conversion_rates.agg([np.mean, std_p, se_p])\n",
        "conversion_rates.columns = ['conversion_rate', 'std_deviation', 'std_error']\n",
        "conversion_rates.style.format('{:.3f}')"
      ],
      "metadata": {
        "colab": {
          "base_uri": "https://localhost:8080/",
          "height": 143
        },
        "id": "cp7LKZymQcH-",
        "outputId": "987286e5-d11f-4be8-83a9-9c9afb0d6b31"
      },
      "execution_count": 58,
      "outputs": [
        {
          "output_type": "execute_result",
          "data": {
            "text/plain": [
              "<pandas.io.formats.style.Styler at 0x7f194b56e5c0>"
            ],
            "text/html": [
              "<style type=\"text/css\">\n",
              "</style>\n",
              "<table id=\"T_d915e\" class=\"dataframe\">\n",
              "  <thead>\n",
              "    <tr>\n",
              "      <th class=\"blank level0\" >&nbsp;</th>\n",
              "      <th id=\"T_d915e_level0_col0\" class=\"col_heading level0 col0\" >conversion_rate</th>\n",
              "      <th id=\"T_d915e_level0_col1\" class=\"col_heading level0 col1\" >std_deviation</th>\n",
              "      <th id=\"T_d915e_level0_col2\" class=\"col_heading level0 col2\" >std_error</th>\n",
              "    </tr>\n",
              "    <tr>\n",
              "      <th class=\"index_name level0\" >group</th>\n",
              "      <th class=\"blank col0\" >&nbsp;</th>\n",
              "      <th class=\"blank col1\" >&nbsp;</th>\n",
              "      <th class=\"blank col2\" >&nbsp;</th>\n",
              "    </tr>\n",
              "  </thead>\n",
              "  <tbody>\n",
              "    <tr>\n",
              "      <th id=\"T_d915e_level0_row0\" class=\"row_heading level0 row0\" >control</th>\n",
              "      <td id=\"T_d915e_row0_col0\" class=\"data row0 col0\" >0.127</td>\n",
              "      <td id=\"T_d915e_row0_col1\" class=\"data row0 col1\" >0.333</td>\n",
              "      <td id=\"T_d915e_row0_col2\" class=\"data row0 col2\" >0.004</td>\n",
              "    </tr>\n",
              "    <tr>\n",
              "      <th id=\"T_d915e_level0_row1\" class=\"row_heading level0 row1\" >treatment</th>\n",
              "      <td id=\"T_d915e_row1_col0\" class=\"data row1 col0\" >0.117</td>\n",
              "      <td id=\"T_d915e_row1_col1\" class=\"data row1 col1\" >0.321</td>\n",
              "      <td id=\"T_d915e_row1_col2\" class=\"data row1 col2\" >0.004</td>\n",
              "    </tr>\n",
              "  </tbody>\n",
              "</table>\n"
            ]
          },
          "metadata": {},
          "execution_count": 58
        }
      ]
    },
    {
      "cell_type": "code",
      "source": [
        "import matplotlib as mpl\n",
        "import matplotlib.pyplot as plt\n",
        "import seaborn as sns\n",
        "%matplotlib inline\n",
        "\n",
        "## some plot styling preferences\n",
        "# plt.style.use('seaborn-whitegrid')\n",
        "font = {\n",
        "    'family': 'monospace',\n",
        "    'weight': 'bold',\n",
        "    'size': 14\n",
        "}\n",
        "mpl.rc('font', **font)\n",
        "\n",
        "plt.figure(figsize=(8, 6))\n",
        "\n",
        "sns.barplot(x=ab_test['group'], y=ab_test['converted'], errorbar=('ci', False))\n",
        "\n",
        "plt.ylim(0, 0.17)\n",
        "plt.title('Conversion rate by group', pad=20)\n",
        "plt.xlabel('Group', labelpad=15)\n",
        "plt.ylabel('Converted (proportion)', labelpad=15);"
      ],
      "metadata": {
        "colab": {
          "base_uri": "https://localhost:8080/",
          "height": 608
        },
        "id": "VG4zPD0Tehpk",
        "outputId": "351ee86b-a92c-42fb-b5d2-8cd96e6da659"
      },
      "execution_count": 59,
      "outputs": [
        {
          "output_type": "display_data",
          "data": {
            "text/plain": [
              "<Figure size 800x600 with 1 Axes>"
            ],
            "image/png": "[encoded data removed]"
          },
          "metadata": {}
        }
      ]
    },
    {
      "cell_type": "markdown",
      "source": [
        "## 4. Hypothesis Testing\n",
        "\n",
        "Since we have large sample (enough >> 30) and or population's deviation known<br> → use `normal approxiamation` for calculating the p-value (i.e. **z-test**)"
      ],
      "metadata": {
        "id": "p4LQd70JUjlB"
      }
    },
    {
      "cell_type": "code",
      "source": [
        "from statsmodels.stats.proportion import (\n",
        "    proportions_ztest, \n",
        "    proportion_confint\n",
        ")\n",
        "\n",
        "control_results = ab_test[ab_test['group'] == 'control']['converted']\n",
        "treatment_results = ab_test[ab_test['group'] == 'treatment']['converted']\n",
        "\n",
        "n_control = control_results.count()\n",
        "n_treatment = treatment_results.count()\n",
        "successes = [control_results.sum(), treatment_results.sum()]\n",
        "nobs = [n_control, n_treatment]\n",
        "\n",
        "z_stat, p_val = proportions_ztest(successes, nobs=nobs)\n",
        "(lower_control, lower_treatment), (upper_control, upper_treatment) = proportion_confint(successes, nobs=nobs, alpha=0.05)\n",
        "\n",
        "print(f'z statistic: {z_stat:.2f}')\n",
        "print(f'p-value: {p_val:.3f}')\n",
        "print(f'ci 95% for control group: [{lower_control:.3f}, {upper_control:.3f}]')\n",
        "print(f'ci 95% for treatment group: [{lower_treatment:.3f}, {upper_treatment:.3f}]')"
      ],
      "metadata": {
        "colab": {
          "base_uri": "https://localhost:8080/"
        },
        "id": "YDYaamasUinJ",
        "outputId": "6db42d46-ffc7-46e4-8825-752e0452e78b"
      },
      "execution_count": 60,
      "outputs": [
        {
          "output_type": "stream",
          "name": "stdout",
          "text": [
            "z statistic: 1.85\n",
            "p-value: 0.065\n",
            "ci 95% for control group: [0.119, 0.136]\n",
            "ci 95% for treatment group: [0.109, 0.125]\n"
          ]
        }
      ]
    },
    {
      "cell_type": "markdown",
      "source": [
        "## 5. Drawing Conclusions\n",
        "\n",
        "since <b>p</b>-value=0.065 is above α=0.05, hence we cannot reject null hypothesis $H_0$, which means that new design did not perform significantly different than old one. (even worse)\n",
        "\n",
        "confidence interval of `baseline` / control group [11.9, 13.6] is much better than `treatment` [10.9, 12.5]"
      ],
      "metadata": {
        "id": "snzpLicHUnXU"
      }
    },
    {
      "cell_type": "code",
      "source": [],
      "metadata": {
        "id": "zSE_kyM-vM73"
      },
      "execution_count": null,
      "outputs": []
    },
    {
      "cell_type": "markdown",
      "source": [
        "Continous Variable Tests\n",
        "<table>\n",
        "<tr><th rowspan=2>&nbsp;</th><th rowspan=2>usecase</th><th colspan=2>Distribution</th></tr>\n",
        "<tr><th>Normal</th><th>Skew</th></tr>\n",
        "<tr><td rowspan=4>continuous</td><td>\n",
        "<li>random sample</li>\n",
        "<li>within subject design</li>\n",
        "</td><td>paired t-test</td><td>Wilcoxon signed-rank</td></tr>\n",
        "<tr><td>\n",
        "<li>between subject design</li>\n",
        "<li>limited to at most 2 groups</li>\n",
        "</td><td>independent t-test\n",
        "<li>2 sample test</li></td><td>Mann-Whitney U-test\n",
        "<li>Wilcoxon rank-sum</li></td></tr>\n",
        "<tr><td>3 or more independent samples</td><td>ANOVA</td><td>Kruskal-Wallis H-test</td></tr>\n",
        "<tr><td>one compared to standard</td><td>one-sample test</td><td><li>MedianAbsoluteDeviation</li><li>Wilcoxon Sign Test</li></td></tr>\n",
        "</table>"
      ],
      "metadata": {
        "id": "43EOD8QfvNmZ"
      }
    },
    {
      "cell_type": "markdown",
      "source": [
        "## Reference\n",
        "- https://towardsdatascience.com/how-to-know-which-statistical-test-to-use-for-hypothesis-testing-744c91685a5d\n",
        "- https://github.com/renatofillinich/ab_test_guide_in_python/blob/master/AB%20testing%20with%20Python.ipynb\n",
        "- https://towardsdatascience.com/ab-testing-with-python-e5964dd66143\n",
        "- https://www.ctc.ucl.ac.uk/TrainingDocuments/Uploaded/Day%204%20-%20Multiple%20groups%20and%20comparisons_03112017_C26s5.pdf\n",
        "- https://www.statology.org/paired-samples-t-test/\n",
        "- https://statisticsbyjim.com/hypothesis-testing/paired-t-test/\n",
        "- https://docs.juliahub.com/Pingouin/Lh7T4/0.2.0/nonparametric/\n",
        "- https://sixsigmastudyguide.com/1-sample-wilcoxon-non-parametric-hypothesis-test/"
      ],
      "metadata": {
        "id": "eCYB5eT34LCC"
      }
    },
    {
      "cell_type": "code",
      "execution_count": null,
      "metadata": {
        "id": "fuRlJFved1tE"
      },
      "outputs": [],
      "source": []
    }
  ]
}